{
 "cells": [
  {
   "cell_type": "markdown",
   "id": "2c4bdfe5-a78c-4d42-a10a-783a0626f802",
   "metadata": {},
   "source": [
    "# Introduction\n",
    "The goal of this project is to gather business data using APIs, preprocess it, build machine learning models, optimize hyperparameters, and deploy the best model using Streamlit.\n"
   ]
  },
  {
   "cell_type": "markdown",
   "id": "cda10d2f-c0b2-4085-bec8-6b3d8c97e474",
   "metadata": {},
   "source": [
    "# Business Problem\n",
    "Businesses must analyze customer reviews to improve services and attract more customers. By leveraging machine learning, businesses can predict performance based on reviews and location insights, enabling data-driven decision-making.\n",
    "\n",
    "# Problem Statement\n",
    "The aim is to develop a machine learning model that predicts business performance using customer reviews. This model will help businesses identify key success factors and make informed decisions. To achieve this, we will create predictive models using supervised machine learning algorithms.\n"
   ]
  },
  {
   "cell_type": "code",
   "execution_count": 831,
   "id": "7147e90e",
   "metadata": {},
   "outputs": [],
   "source": [
    "import requests\n",
    "import re\n",
    "import nltk\n",
    "import sklearn\n",
    "import pandas as pd\n",
    "from sklearn.feature_extraction.text import TfidfVectorizer\n",
    "from sklearn.neighbors import KNeighborsClassifier\n",
    "from sklearn.model_selection import train_test_split,cross_validate\n",
    "from sklearn.preprocessing import StandardScaler\n",
    "from sklearn.metrics import classification_report, accuracy_score\n",
    "import optuna\n",
    "from sklearn.linear_model import LogisticRegression\n",
    "from sklearn.tree import DecisionTreeClassifier\n",
    "from optuna.samplers import GridSampler,RandomSampler\n",
    "import optuna"
   ]
  },
  {
   "cell_type": "markdown",
   "id": "26e7cb20",
   "metadata": {},
   "source": [
    "## API Request Code\n",
    "This Python script sends a GET request to the local-business-data.p.rapidapi.com API using the requests library to search for pizza places within a specified location."
   ]
  },
  {
   "cell_type": "code",
   "execution_count": 834,
   "id": "f7ab563e",
   "metadata": {},
   "outputs": [],
   "source": [
    "import requests\n",
    "\n",
    "url = \"https://local-business-data.p.rapidapi.com/search-in-area\"\n",
    "\n",
    "querystring = {\"query\":\"pizza\",\"lat\":\"37.359428\",\"lng\":\"-121.925337\",\"zoom\":\"13\",\"limit\":\"20\",\"language\":\"en\",\"region\":\"us\",\"extract_emails_and_contacts\":\"false\"}\n",
    "\n",
    "headers = {\n",
    "\t\"x-rapidapi-key\": \"8c3d25328fmshd598205a362f267p1ba927jsnf0ec88b37ae4\",\n",
    "\t\"x-rapidapi-host\": \"local-business-data.p.rapidapi.com\"\n",
    "}\n",
    "\n",
    "response = requests.get(url, headers=headers, params=querystring)\n"
   ]
  },
  {
   "cell_type": "code",
   "execution_count": 9,
   "id": "35b139a8",
   "metadata": {},
   "outputs": [
    {
     "data": {
      "text/plain": [
       "dict_keys(['status', 'request_id', 'parameters', 'data'])"
      ]
     },
     "execution_count": 9,
     "metadata": {},
     "output_type": "execute_result"
    }
   ],
   "source": [
    "response.json().keys()"
   ]
  },
  {
   "cell_type": "code",
   "execution_count": 15,
   "id": "4dd2f6ba",
   "metadata": {},
   "outputs": [],
   "source": [
    "data = pd.json_normalize(response.json(),record_path='data')"
   ]
  },
  {
   "cell_type": "code",
   "execution_count": 32,
   "id": "59039ab7",
   "metadata": {},
   "outputs": [],
   "source": [
    "data.to_csv(r\"C:\\Users\\HP\\Videos\\New folder\\output.csv\", index=False)"
   ]
  },
  {
   "cell_type": "code",
   "execution_count": 57,
   "id": "c3f65f7e-acde-4ac4-8ae4-f7ef30c97df6",
   "metadata": {},
   "outputs": [],
   "source": [
    "data =pd.read_csv(r\"C:\\Users\\HP\\Videos\\New folder\\output.csv\")"
   ]
  },
  {
   "cell_type": "code",
   "execution_count": 61,
   "id": "50495117-5819-4fed-a06f-384da9e481cf",
   "metadata": {},
   "outputs": [
    {
     "name": "stderr",
     "output_type": "stream",
     "text": [
      "C:\\Users\\HP\\AppData\\Local\\Temp\\ipykernel_14100\\3281451707.py:31: FutureWarning: The behavior of DataFrame concatenation with empty or all-NA entries is deprecated. In a future version, this will no longer exclude empty or all-NA columns when determining the result dtypes. To retain the old behavior, exclude the relevant entries before the concat operation.\n",
      "  final_reviews = pd.concat(all_reviews, ignore_index=True)\n"
     ]
    }
   ],
   "source": [
    "url = \"https://local-business-data.p.rapidapi.com/business-reviews\"\n",
    "\n",
    "headers = {\n",
    "    \"x-rapidapi-key\": \"8c3d25328fmshd598205a362f267p1ba927jsnf0ec88b37ae4\",\n",
    "    \"x-rapidapi-host\": \"local-business-data.p.rapidapi.com\"\n",
    "}\n",
    "\n",
    "all_reviews = []  \n",
    "\n",
    "for business_id in data[\"business_id\"]: \n",
    "    querystring = {\n",
    "        \"business_id\": business_id,\n",
    "        \"limit\": \"20\",\n",
    "        \"sort_by\": \"newest\",\n",
    "        \"region\": \"us\",\n",
    "        \"language\": \"en\"\n",
    "    }\n",
    "\n",
    "    response = requests.get(url, headers=headers, params=querystring)\n",
    "\n",
    "    if response.status_code == 200 and \"data\" in response.json():\n",
    "        reviews = pd.json_normalize(response.json(), record_path=\"data\")\n",
    "        all_reviews.append(reviews)\n",
    "    else:\n",
    "        print(f\"No data found for {business_id}\")\n",
    "\n",
    "\n",
    "final_reviews = pd.concat(all_reviews, ignore_index=True)\n"
   ]
  },
  {
   "cell_type": "code",
   "execution_count": 63,
   "id": "119f8c6c-c3d6-4268-a418-880ea4de4690",
   "metadata": {},
   "outputs": [],
   "source": [
    "final_reviews.to_csv(r\"C:\\Users\\HP\\Videos\\New folder\\reviews.csv\", index=False)\n"
   ]
  },
  {
   "cell_type": "code",
   "execution_count": 85,
   "id": "3901739c-e781-44a8-a807-f21fe72e6a4c",
   "metadata": {},
   "outputs": [],
   "source": [
    "data2 = pd.read_csv(r\"C:\\Users\\HP\\Videos\\New folder\\reviews.csv\")"
   ]
  },
  {
   "cell_type": "markdown",
   "id": "7fde9ecf",
   "metadata": {},
   "source": [
    "## Data containing information on review from each business ID"
   ]
  },
  {
   "cell_type": "code",
   "execution_count": 87,
   "id": "1d70a0a4",
   "metadata": {},
   "outputs": [],
   "source": [
    "fd = data2[['review_text','rating']]"
   ]
  },
  {
   "cell_type": "code",
   "execution_count": 89,
   "id": "de5d1f87",
   "metadata": {},
   "outputs": [],
   "source": [
    "final_data1= fd[~fd['review_text'].isnull()]"
   ]
  },
  {
   "cell_type": "markdown",
   "id": "19d14790",
   "metadata": {},
   "source": [
    "## Performing Simple EDA\n",
    "\n",
    "The SEDA function analyzes a given text column in a DataFrame and detects various text patterns such as uppercase/lowercase mix, HTML tags, URLs, email addresses, mentions, special characters, and emojis."
   ]
  },
  {
   "cell_type": "code",
   "execution_count": 99,
   "id": "50f5cdc0",
   "metadata": {},
   "outputs": [],
   "source": [
    "def SEDA(data,column_name):\n",
    "    import emoji\n",
    "    \n",
    "    lower_upper=data[column_name].apply(lambda x:False if (x.islower()) or(x.isupper()) else True).sum()\n",
    "    \n",
    "    tags=data[column_name].apply(lambda x:True if re.search(\"<.+?>\",x) else False).sum()\n",
    "    \n",
    "    urls = data[column_name].apply(lambda x: True if re.search(\"http[s]://\\\\S+\", x) else False).sum()\n",
    "    \n",
    "    mail_id = data[column_name].apply(lambda x: True if re.search(\"\\\\S+@\\\\S+\", x) else False).sum()\n",
    "    \n",
    "    mentions = data[column_name].apply(lambda x: True if re.search(\"\\\\B[@#]\\\\S+\", x) else False).sum()\n",
    "    \n",
    "    special_chara = data[column_name].apply(lambda x: True if re.search(\"[0-9%*&'\\\\?\\\\[\\\\]]\", x) else False).sum()\n",
    "    \n",
    "    emoji1=data[column_name].apply(lambda x:True if emoji.emoji_count(x)>0 else False).sum()\n",
    "\n",
    " \n",
    "    \n",
    "    if lower_upper>0:\n",
    "        print(\"Not in lower or upper case\")\n",
    "    if tags>0:\n",
    "        print(\"tags present\")\n",
    "    if urls>0:\n",
    "        print(\"urls present\")\n",
    "    if mail_id>0:\n",
    "        print(\"mail_ids present\")\n",
    "    if mentions>0:\n",
    "        print(\"mentions present\")\n",
    "    if special_chara>0:\n",
    "        print(\"special_chara present\")\n",
    "    if emoji1>0:\n",
    "        print(\"emoji present\")"
   ]
  },
  {
   "cell_type": "code",
   "execution_count": 101,
   "id": "53c17c22",
   "metadata": {},
   "outputs": [
    {
     "name": "stdout",
     "output_type": "stream",
     "text": [
      "Not in lower or upper case\n",
      "mail_ids present\n",
      "special_chara present\n",
      "emoji present\n"
     ]
    }
   ],
   "source": [
    "SEDA(final_data1,\"review_text\")"
   ]
  },
  {
   "cell_type": "markdown",
   "id": "6fac60aa",
   "metadata": {},
   "source": [
    "## Text Preprocessing Function\n",
    "\n",
    "The pre_processing function is a text-cleaning utility that removes unwanted elements such as HTML tags, URLs, mentions, emails, punctuation, digits, emojis, and stopwords while also offering stemming and lemmatization options."
   ]
  },
  {
   "cell_type": "code",
   "execution_count": 103,
   "id": "efcede34",
   "metadata": {},
   "outputs": [],
   "source": [
    "def pre_processing(data,column_name,lowercase=None,tags=True,urls=True,mentions=True,mail_ids=True,punctuation=True,digits=True,emojis=True,stopwordss=True,stem_lem=True,stemm=True):\n",
    "    \n",
    "    import emoji\n",
    "    import re\n",
    "    from nltk.corpus import stopwords\n",
    "    from nltk.stem import PorterStemmer,WordNetLemmatizer\n",
    "    \n",
    "    ps=PorterStemmer()\n",
    "    wl=WordNetLemmatizer()\n",
    "\n",
    "    stp=stopwords.words(\"english\")\n",
    "    stp.remove(\"not\")\n",
    "    \n",
    "    # lower or upper\n",
    "    if lowercase==True:\n",
    "        data[column_name]=data[column_name].str.lower()\n",
    "    elif lowercase==False:\n",
    "        data[column_name]=data[column_name].str.upper()\n",
    "    else:\n",
    "        pass\n",
    "    \n",
    "    # tags removal\n",
    "    if tags==True:\n",
    "        data[column_name]=data[column_name].apply(lambda x:re.sub(\"<.+?>\",\"\",x))\n",
    "    else:\n",
    "        pass\n",
    "    \n",
    "    # urls removal\n",
    "    if urls==True:\n",
    "        data[column_name] = data[column_name].apply(lambda x: re.sub(\"http[s]://\\\\S+\", \"\", x))\n",
    "        \n",
    "    else:\n",
    "        pass\n",
    "    \n",
    "    # mentions removal\n",
    "    if mentions==True:\n",
    "        data[column_name] = data[column_name].apply(lambda x: re.sub(\"\\\\B[@#]\\\\S+\", \"\", x))\n",
    "    else:\n",
    "        pass\n",
    "\n",
    "    # mail-ids\n",
    "    if mail_ids==True:\n",
    "        data[column_name] = data[column_name].apply(lambda x: re.sub(\"\\\\S+@\\\\S+\", \"\", x))\n",
    "        \n",
    "    else:\n",
    "        pass\n",
    "    \n",
    "    # punctuation\n",
    "    if punctuation==True:\n",
    "        data[column_name] = data[column_name].apply(lambda x: re.sub(\"[!\\\"#$%&'()*+,-./:;<=>?@\\\\^_`{|}~]\", \"\", x))\n",
    "    else:\n",
    "        pass\n",
    "    \n",
    "    #digits\n",
    "    \n",
    "    if digits==True:\n",
    "        data[column_name]=data[column_name].apply(lambda x:re.sub(\"[0-9]\",\"\",x))\n",
    "    else:\n",
    "        pass\n",
    "    \n",
    "    #emojis\n",
    "    if emojis==True:\n",
    "        data[column_name]=data[column_name].apply(lambda x:emoji.demojize(x,delimiters=('', '')))\n",
    "    else:\n",
    "        pass\n",
    "    \n",
    "    if stopwordss==True:\n",
    "        d=[]\n",
    "        for sent in data[column_name]:\n",
    "            l=[]\n",
    "            for word in sent.split():\n",
    "                if word not in stp:\n",
    "                    l.append(word)\n",
    "            d.append([\" \".join(l)])\n",
    "            \n",
    "        data[column_name]=pd.DataFrame(d)\n",
    "    else:\n",
    "        pass\n",
    "    \n",
    "    \n",
    "    if stem_lem==True:\n",
    "        d=[]\n",
    "        for sent in data[column_name]:\n",
    "            l=[]\n",
    "            if stemm==True:\n",
    "                for word in sent.split():\n",
    "                        l.append(ps.stem(word))\n",
    "            else:\n",
    "                for word in sent.split():\n",
    "                        l.append(wl.lemmatize(word))\n",
    "            d.append([\" \".join(l)])\n",
    "        data[column_name]=pd.DataFrame(d)\n",
    "    else:\n",
    "        pass\n",
    "        \n",
    "            \n",
    "    \n",
    "    return data\n",
    "   "
   ]
  },
  {
   "cell_type": "code",
   "execution_count": null,
   "id": "5b9edbd7",
   "metadata": {},
   "outputs": [],
   "source": [
    "final = pre_processing(final_data1,\"review_text\",lowercase=True,tags=False,urls=False,mentions=False,mail_ids=False,punctuation=True,digits=True,emojis=True,stopwordss=False,stem_lem=False,stemm=False)"
   ]
  },
  {
   "cell_type": "code",
   "execution_count": 108,
   "id": "49cc902d-bdae-42c1-81f2-cad22026442a",
   "metadata": {},
   "outputs": [],
   "source": [
    "final.to_csv(r\"C:\\Users\\HP\\Videos\\New folder\\final.csv\", index=False)\n"
   ]
  },
  {
   "cell_type": "code",
   "execution_count": 617,
   "id": "5323c52d-e988-4087-82a4-1e25b6ce6480",
   "metadata": {},
   "outputs": [
    {
     "data": {
      "text/html": [
       "<div>\n",
       "<style scoped>\n",
       "    .dataframe tbody tr th:only-of-type {\n",
       "        vertical-align: middle;\n",
       "    }\n",
       "\n",
       "    .dataframe tbody tr th {\n",
       "        vertical-align: top;\n",
       "    }\n",
       "\n",
       "    .dataframe thead th {\n",
       "        text-align: right;\n",
       "    }\n",
       "</style>\n",
       "<table border=\"1\" class=\"dataframe\">\n",
       "  <thead>\n",
       "    <tr style=\"text-align: right;\">\n",
       "      <th></th>\n",
       "      <th>review_text</th>\n",
       "      <th>rating</th>\n",
       "    </tr>\n",
       "  </thead>\n",
       "  <tbody>\n",
       "    <tr>\n",
       "      <th>0</th>\n",
       "      <td>delicious</td>\n",
       "      <td>4</td>\n",
       "    </tr>\n",
       "    <tr>\n",
       "      <th>1</th>\n",
       "      <td>the workers are sweet and kind food amazing</td>\n",
       "      <td>5</td>\n",
       "    </tr>\n",
       "    <tr>\n",
       "      <th>2</th>\n",
       "      <td>preet was very helpful and cordial he keeps th...</td>\n",
       "      <td>5</td>\n",
       "    </tr>\n",
       "    <tr>\n",
       "      <th>3</th>\n",
       "      <td>good service very tasty food</td>\n",
       "      <td>5</td>\n",
       "    </tr>\n",
       "    <tr>\n",
       "      <th>4</th>\n",
       "      <td>very good and tasty place</td>\n",
       "      <td>5</td>\n",
       "    </tr>\n",
       "  </tbody>\n",
       "</table>\n",
       "</div>"
      ],
      "text/plain": [
       "                                         review_text  rating\n",
       "0                                          delicious       4\n",
       "1        the workers are sweet and kind food amazing       5\n",
       "2  preet was very helpful and cordial he keeps th...       5\n",
       "3                       good service very tasty food       5\n",
       "4                          very good and tasty place       5"
      ]
     },
     "execution_count": 617,
     "metadata": {},
     "output_type": "execute_result"
    }
   ],
   "source": [
    "final= pd.read_csv(r\"C:\\Users\\HP\\Videos\\New folder\\final.csv\")\n",
    "final.head()"
   ]
  },
  {
   "cell_type": "markdown",
   "id": "76623152",
   "metadata": {},
   "source": [
    "## The CountVectorizer from sklearn.\n",
    "\n",
    "feature_extraction.text converts a collection of text documents into a bag-of-words (BoW) representation. It tokenizes text, removes punctuation, and creates a sparse matrix where each row corresponds to a document and each column represents a word's frequency."
   ]
  },
  {
   "cell_type": "code",
   "execution_count": 732,
   "id": "f65e9110",
   "metadata": {},
   "outputs": [],
   "source": [
    "tf = TfidfVectorizer()\n",
    "final_data = tf.fit_transform(final[\"review_text\"])"
   ]
  },
  {
   "cell_type": "code",
   "execution_count": 734,
   "id": "ae00d315",
   "metadata": {},
   "outputs": [],
   "source": [
    "vector_data =pd.DataFrame(final_data.toarray())"
   ]
  },
  {
   "cell_type": "code",
   "execution_count": 736,
   "id": "1fde2144",
   "metadata": {},
   "outputs": [
    {
     "data": {
      "text/html": [
       "<div>\n",
       "<style scoped>\n",
       "    .dataframe tbody tr th:only-of-type {\n",
       "        vertical-align: middle;\n",
       "    }\n",
       "\n",
       "    .dataframe tbody tr th {\n",
       "        vertical-align: top;\n",
       "    }\n",
       "\n",
       "    .dataframe thead th {\n",
       "        text-align: right;\n",
       "    }\n",
       "</style>\n",
       "<table border=\"1\" class=\"dataframe\">\n",
       "  <thead>\n",
       "    <tr style=\"text-align: right;\">\n",
       "      <th></th>\n",
       "      <th>0</th>\n",
       "      <th>1</th>\n",
       "      <th>2</th>\n",
       "      <th>3</th>\n",
       "      <th>4</th>\n",
       "      <th>5</th>\n",
       "      <th>6</th>\n",
       "      <th>7</th>\n",
       "      <th>8</th>\n",
       "      <th>9</th>\n",
       "      <th>...</th>\n",
       "      <th>1991</th>\n",
       "      <th>1992</th>\n",
       "      <th>1993</th>\n",
       "      <th>1994</th>\n",
       "      <th>1995</th>\n",
       "      <th>1996</th>\n",
       "      <th>1997</th>\n",
       "      <th>1998</th>\n",
       "      <th>1999</th>\n",
       "      <th>2000</th>\n",
       "    </tr>\n",
       "  </thead>\n",
       "  <tbody>\n",
       "    <tr>\n",
       "      <th>0</th>\n",
       "      <td>0.0</td>\n",
       "      <td>0.0</td>\n",
       "      <td>0.0</td>\n",
       "      <td>0.0</td>\n",
       "      <td>0.0</td>\n",
       "      <td>0.0</td>\n",
       "      <td>0.0</td>\n",
       "      <td>0.0</td>\n",
       "      <td>0.0</td>\n",
       "      <td>0.0</td>\n",
       "      <td>...</td>\n",
       "      <td>0.0</td>\n",
       "      <td>0.0</td>\n",
       "      <td>0.0</td>\n",
       "      <td>0.0</td>\n",
       "      <td>0.0</td>\n",
       "      <td>0.0</td>\n",
       "      <td>0.0</td>\n",
       "      <td>0.0</td>\n",
       "      <td>0.0</td>\n",
       "      <td>0.0</td>\n",
       "    </tr>\n",
       "  </tbody>\n",
       "</table>\n",
       "<p>1 rows × 2001 columns</p>\n",
       "</div>"
      ],
      "text/plain": [
       "   0     1     2     3     4     5     6     7     8     9     ...  1991  \\\n",
       "0   0.0   0.0   0.0   0.0   0.0   0.0   0.0   0.0   0.0   0.0  ...   0.0   \n",
       "\n",
       "   1992  1993  1994  1995  1996  1997  1998  1999  2000  \n",
       "0   0.0   0.0   0.0   0.0   0.0   0.0   0.0   0.0   0.0  \n",
       "\n",
       "[1 rows x 2001 columns]"
      ]
     },
     "execution_count": 736,
     "metadata": {},
     "output_type": "execute_result"
    }
   ],
   "source": [
    "vector_data.head(1)"
   ]
  },
  {
   "cell_type": "code",
   "execution_count": 738,
   "id": "a12da6ee",
   "metadata": {},
   "outputs": [],
   "source": [
    "final[\"rating\"].index= range(0,254)"
   ]
  },
  {
   "cell_type": "code",
   "execution_count": 740,
   "id": "51d302d2",
   "metadata": {},
   "outputs": [],
   "source": [
    "vector_data[\"rating\"]= final[\"rating\"]\n"
   ]
  },
  {
   "cell_type": "code",
   "execution_count": 742,
   "id": "17f376be",
   "metadata": {},
   "outputs": [],
   "source": [
    "fv = vector_data.iloc[:, :-1]\n",
    "\n",
    "cv = vector_data[\"rating\"]   \n"
   ]
  },
  {
   "cell_type": "code",
   "execution_count": 744,
   "id": "87ee508c-ef92-4e87-96b1-aefadaa66f2f",
   "metadata": {},
   "outputs": [],
   "source": [
    "x_train, x_test, y_train, y_test = train_test_split(fv, cv, test_size=0.2, stratify=cv, random_state=42)\n"
   ]
  },
  {
   "cell_type": "markdown",
   "id": "e777346d-30a1-413f-abc8-e1d863bb4313",
   "metadata": {},
   "source": [
    "##  Standardization using `StandardScaler`\n",
    "\n",
    "`StandardScaler` from `sklearn.preprocessing` to normalize the feature values in `x_train` and `x_test`. Standardization ensures that the data has a mean of **0** and a standard deviation of **1**.\n"
   ]
  },
  {
   "cell_type": "code",
   "execution_count": 746,
   "id": "b1e6a318-6e32-4835-bd98-6aff799fd001",
   "metadata": {},
   "outputs": [],
   "source": [
    "std = StandardScaler(with_mean=False)\n",
    "x_train = std.fit_transform(x_train)\n",
    "x_test = std.transform(x_test)\n"
   ]
  },
  {
   "cell_type": "code",
   "execution_count": 748,
   "id": "65e49261-99c4-475c-a4ac-347a5679ce3d",
   "metadata": {},
   "outputs": [
    {
     "name": "stdout",
     "output_type": "stream",
     "text": [
      "(203, 2001)\n",
      "(51, 2001)\n",
      "(203,)\n",
      "(51,)\n"
     ]
    }
   ],
   "source": [
    "print(x_train.shape)\n",
    "print(x_test.shape)\n",
    "print(y_train.shape)\n",
    "print(y_test.shape)\n"
   ]
  },
  {
   "cell_type": "markdown",
   "id": "10b1ac96-299c-493c-ba66-10a6fc898f4e",
   "metadata": {},
   "source": [
    "## KNN"
   ]
  },
  {
   "cell_type": "code",
   "execution_count": 751,
   "id": "b9a7436b-2513-4c33-8a7e-4731bddf7b90",
   "metadata": {},
   "outputs": [],
   "source": [
    "def objective(trial):\n",
    "    neighbors = trial.suggest_int(\"neighbors\",1,5)\n",
    "    weight = trial.suggest_categorical(\"weight\",[\"uniform\",\"distance\"])\n",
    "    algorithm= trial.suggest_categorical(\"algorithm\",[\"ball_tree\", \"kd_tree\", \"brute\"])\n",
    "    p= trial.suggest_int(\"p\",1,2)\n",
    "\n",
    "    knn= KNeighborsClassifier(n_neighbors=neighbors, weights=weight, algorithm=algorithm,p=p)\n",
    "\n",
    "    cv_acc = cross_validate(knn, x_train, y_train, cv=5, scoring=\"accuracy\")[\"test_score\"].mean()\n",
    "\n",
    "\n",
    "\n",
    "    return cv_acc"
   ]
  },
  {
   "cell_type": "code",
   "execution_count": 753,
   "id": "b7dc3b49-b76b-4f2c-900b-e4c666fbd390",
   "metadata": {},
   "outputs": [
    {
     "name": "stderr",
     "output_type": "stream",
     "text": [
      "[I 2025-03-17 23:29:14,850] A new study created in memory with name: no-name-cb8d9337-a428-4cd6-af9b-d24f34e4e239\n"
     ]
    }
   ],
   "source": [
    "#create a study\n",
    "study = optuna.create_study(direction=\"maximize\", sampler=RandomSampler())"
   ]
  },
  {
   "cell_type": "code",
   "execution_count": 755,
   "id": "a81f7fea-76ac-4290-aed6-6c5ef25e62fb",
   "metadata": {
    "collapsed": true,
    "jupyter": {
     "outputs_hidden": true
    }
   },
   "outputs": [
    {
     "name": "stderr",
     "output_type": "stream",
     "text": [
      "[I 2025-03-17 23:29:18,145] Trial 0 finished with value: 0.21146341463414636 and parameters: {'neighbors': 3, 'weight': 'distance', 'algorithm': 'brute', 'p': 1}. Best is trial 0 with value: 0.21146341463414636.\n",
      "[I 2025-03-17 23:29:18,447] Trial 1 finished with value: 0.20658536585365855 and parameters: {'neighbors': 3, 'weight': 'uniform', 'algorithm': 'ball_tree', 'p': 1}. Best is trial 0 with value: 0.21146341463414636.\n",
      "[I 2025-03-17 23:29:18,806] Trial 2 finished with value: 0.4801219512195122 and parameters: {'neighbors': 5, 'weight': 'distance', 'algorithm': 'kd_tree', 'p': 1}. Best is trial 2 with value: 0.4801219512195122.\n",
      "[I 2025-03-17 23:29:18,977] Trial 3 finished with value: 0.21146341463414636 and parameters: {'neighbors': 3, 'weight': 'distance', 'algorithm': 'brute', 'p': 1}. Best is trial 2 with value: 0.4801219512195122.\n",
      "[I 2025-03-17 23:29:19,055] Trial 4 finished with value: 0.5571951219512196 and parameters: {'neighbors': 2, 'weight': 'distance', 'algorithm': 'brute', 'p': 2}. Best is trial 4 with value: 0.5571951219512196.\n",
      "[I 2025-03-17 23:29:19,518] Trial 5 finished with value: 0.4741463414634147 and parameters: {'neighbors': 4, 'weight': 'distance', 'algorithm': 'kd_tree', 'p': 2}. Best is trial 4 with value: 0.5571951219512196.\n",
      "[I 2025-03-17 23:29:19,705] Trial 6 finished with value: 0.21146341463414636 and parameters: {'neighbors': 3, 'weight': 'distance', 'algorithm': 'brute', 'p': 1}. Best is trial 4 with value: 0.5571951219512196.\n",
      "[I 2025-03-17 23:29:19,896] Trial 7 finished with value: 0.21146341463414636 and parameters: {'neighbors': 3, 'weight': 'distance', 'algorithm': 'brute', 'p': 1}. Best is trial 4 with value: 0.5571951219512196.\n",
      "[I 2025-03-17 23:29:20,168] Trial 8 finished with value: 0.21146341463414636 and parameters: {'neighbors': 3, 'weight': 'distance', 'algorithm': 'ball_tree', 'p': 1}. Best is trial 4 with value: 0.5571951219512196.\n",
      "[I 2025-03-17 23:29:20,466] Trial 9 finished with value: 0.5571951219512196 and parameters: {'neighbors': 1, 'weight': 'distance', 'algorithm': 'ball_tree', 'p': 2}. Best is trial 4 with value: 0.5571951219512196.\n",
      "[I 2025-03-17 23:29:20,851] Trial 10 finished with value: 0.20658536585365855 and parameters: {'neighbors': 3, 'weight': 'uniform', 'algorithm': 'kd_tree', 'p': 1}. Best is trial 4 with value: 0.5571951219512196.\n",
      "[I 2025-03-17 23:29:21,420] Trial 11 finished with value: 0.5571951219512196 and parameters: {'neighbors': 2, 'weight': 'distance', 'algorithm': 'kd_tree', 'p': 2}. Best is trial 4 with value: 0.5571951219512196.\n",
      "[I 2025-03-17 23:29:22,630] Trial 12 finished with value: 0.4741463414634147 and parameters: {'neighbors': 4, 'weight': 'distance', 'algorithm': 'kd_tree', 'p': 2}. Best is trial 4 with value: 0.5571951219512196.\n",
      "[I 2025-03-17 23:29:23,197] Trial 13 finished with value: 0.53 and parameters: {'neighbors': 5, 'weight': 'distance', 'algorithm': 'kd_tree', 'p': 2}. Best is trial 4 with value: 0.5571951219512196.\n",
      "[I 2025-03-17 23:29:23,810] Trial 14 finished with value: 0.20207317073170733 and parameters: {'neighbors': 4, 'weight': 'uniform', 'algorithm': 'kd_tree', 'p': 2}. Best is trial 4 with value: 0.5571951219512196.\n",
      "[I 2025-03-17 23:29:24,426] Trial 15 finished with value: 0.1329268292682927 and parameters: {'neighbors': 4, 'weight': 'uniform', 'algorithm': 'kd_tree', 'p': 1}. Best is trial 4 with value: 0.5571951219512196.\n",
      "[I 2025-03-17 23:29:24,657] Trial 16 finished with value: 0.41451219512195125 and parameters: {'neighbors': 3, 'weight': 'distance', 'algorithm': 'ball_tree', 'p': 2}. Best is trial 4 with value: 0.5571951219512196.\n",
      "[I 2025-03-17 23:29:24,730] Trial 17 finished with value: 0.24182926829268295 and parameters: {'neighbors': 2, 'weight': 'uniform', 'algorithm': 'brute', 'p': 2}. Best is trial 4 with value: 0.5571951219512196.\n",
      "[I 2025-03-17 23:29:25,180] Trial 18 finished with value: 0.24182926829268295 and parameters: {'neighbors': 2, 'weight': 'uniform', 'algorithm': 'kd_tree', 'p': 2}. Best is trial 4 with value: 0.5571951219512196.\n",
      "[I 2025-03-17 23:29:25,438] Trial 19 finished with value: 0.20658536585365855 and parameters: {'neighbors': 3, 'weight': 'uniform', 'algorithm': 'ball_tree', 'p': 1}. Best is trial 4 with value: 0.5571951219512196.\n",
      "[I 2025-03-17 23:29:25,678] Trial 20 finished with value: 0.1329268292682927 and parameters: {'neighbors': 4, 'weight': 'uniform', 'algorithm': 'ball_tree', 'p': 1}. Best is trial 4 with value: 0.5571951219512196.\n",
      "[I 2025-03-17 23:29:25,927] Trial 21 finished with value: 0.1774390243902439 and parameters: {'neighbors': 4, 'weight': 'distance', 'algorithm': 'ball_tree', 'p': 1}. Best is trial 4 with value: 0.5571951219512196.\n",
      "[I 2025-03-17 23:29:26,364] Trial 22 finished with value: 0.4801219512195122 and parameters: {'neighbors': 5, 'weight': 'distance', 'algorithm': 'kd_tree', 'p': 1}. Best is trial 4 with value: 0.5571951219512196.\n",
      "[I 2025-03-17 23:29:26,651] Trial 23 finished with value: 0.53 and parameters: {'neighbors': 5, 'weight': 'uniform', 'algorithm': 'ball_tree', 'p': 2}. Best is trial 4 with value: 0.5571951219512196.\n",
      "[I 2025-03-17 23:29:26,958] Trial 24 finished with value: 0.24134146341463417 and parameters: {'neighbors': 2, 'weight': 'distance', 'algorithm': 'ball_tree', 'p': 1}. Best is trial 4 with value: 0.5571951219512196.\n",
      "[I 2025-03-17 23:29:27,247] Trial 25 finished with value: 0.4801219512195122 and parameters: {'neighbors': 5, 'weight': 'uniform', 'algorithm': 'ball_tree', 'p': 1}. Best is trial 4 with value: 0.5571951219512196.\n",
      "[I 2025-03-17 23:29:27,700] Trial 26 finished with value: 0.53 and parameters: {'neighbors': 5, 'weight': 'distance', 'algorithm': 'kd_tree', 'p': 2}. Best is trial 4 with value: 0.5571951219512196.\n",
      "[I 2025-03-17 23:29:27,996] Trial 27 finished with value: 0.20658536585365855 and parameters: {'neighbors': 3, 'weight': 'uniform', 'algorithm': 'ball_tree', 'p': 1}. Best is trial 4 with value: 0.5571951219512196.\n",
      "[I 2025-03-17 23:29:28,173] Trial 28 finished with value: 0.24134146341463417 and parameters: {'neighbors': 2, 'weight': 'distance', 'algorithm': 'brute', 'p': 1}. Best is trial 4 with value: 0.5571951219512196.\n",
      "[I 2025-03-17 23:29:28,338] Trial 29 finished with value: 0.4801219512195122 and parameters: {'neighbors': 5, 'weight': 'distance', 'algorithm': 'brute', 'p': 1}. Best is trial 4 with value: 0.5571951219512196.\n",
      "[I 2025-03-17 23:29:28,590] Trial 30 finished with value: 0.24134146341463417 and parameters: {'neighbors': 1, 'weight': 'distance', 'algorithm': 'ball_tree', 'p': 1}. Best is trial 4 with value: 0.5571951219512196.\n",
      "[I 2025-03-17 23:29:28,974] Trial 31 finished with value: 0.4801219512195122 and parameters: {'neighbors': 5, 'weight': 'distance', 'algorithm': 'kd_tree', 'p': 1}. Best is trial 4 with value: 0.5571951219512196.\n",
      "[I 2025-03-17 23:29:29,263] Trial 32 finished with value: 0.53 and parameters: {'neighbors': 5, 'weight': 'distance', 'algorithm': 'ball_tree', 'p': 2}. Best is trial 4 with value: 0.5571951219512196.\n",
      "[I 2025-03-17 23:29:29,668] Trial 33 finished with value: 0.53 and parameters: {'neighbors': 5, 'weight': 'distance', 'algorithm': 'kd_tree', 'p': 2}. Best is trial 4 with value: 0.5571951219512196.\n",
      "[I 2025-03-17 23:29:29,730] Trial 34 finished with value: 0.5571951219512196 and parameters: {'neighbors': 1, 'weight': 'uniform', 'algorithm': 'brute', 'p': 2}. Best is trial 4 with value: 0.5571951219512196.\n",
      "[I 2025-03-17 23:29:29,986] Trial 35 finished with value: 0.1774390243902439 and parameters: {'neighbors': 4, 'weight': 'distance', 'algorithm': 'ball_tree', 'p': 1}. Best is trial 4 with value: 0.5571951219512196.\n",
      "[I 2025-03-17 23:29:30,264] Trial 36 finished with value: 0.4741463414634147 and parameters: {'neighbors': 4, 'weight': 'distance', 'algorithm': 'ball_tree', 'p': 2}. Best is trial 4 with value: 0.5571951219512196.\n",
      "[I 2025-03-17 23:29:30,636] Trial 37 finished with value: 0.4741463414634147 and parameters: {'neighbors': 4, 'weight': 'distance', 'algorithm': 'kd_tree', 'p': 2}. Best is trial 4 with value: 0.5571951219512196.\n",
      "[I 2025-03-17 23:29:30,887] Trial 38 finished with value: 0.12804878048780488 and parameters: {'neighbors': 2, 'weight': 'uniform', 'algorithm': 'ball_tree', 'p': 1}. Best is trial 4 with value: 0.5571951219512196.\n",
      "[I 2025-03-17 23:29:31,256] Trial 39 finished with value: 0.53 and parameters: {'neighbors': 5, 'weight': 'distance', 'algorithm': 'kd_tree', 'p': 2}. Best is trial 4 with value: 0.5571951219512196.\n",
      "[I 2025-03-17 23:29:31,330] Trial 40 finished with value: 0.5571951219512196 and parameters: {'neighbors': 1, 'weight': 'distance', 'algorithm': 'brute', 'p': 2}. Best is trial 4 with value: 0.5571951219512196.\n",
      "[I 2025-03-17 23:29:31,713] Trial 41 finished with value: 0.53 and parameters: {'neighbors': 5, 'weight': 'uniform', 'algorithm': 'kd_tree', 'p': 2}. Best is trial 4 with value: 0.5571951219512196.\n",
      "[I 2025-03-17 23:29:31,859] Trial 42 finished with value: 0.24134146341463417 and parameters: {'neighbors': 1, 'weight': 'uniform', 'algorithm': 'brute', 'p': 1}. Best is trial 4 with value: 0.5571951219512196.\n",
      "[I 2025-03-17 23:29:32,004] Trial 43 finished with value: 0.12804878048780488 and parameters: {'neighbors': 2, 'weight': 'uniform', 'algorithm': 'brute', 'p': 1}. Best is trial 4 with value: 0.5571951219512196.\n",
      "[I 2025-03-17 23:29:32,267] Trial 44 finished with value: 0.1774390243902439 and parameters: {'neighbors': 4, 'weight': 'distance', 'algorithm': 'ball_tree', 'p': 1}. Best is trial 4 with value: 0.5571951219512196.\n",
      "[I 2025-03-17 23:29:32,501] Trial 45 finished with value: 0.1329268292682927 and parameters: {'neighbors': 4, 'weight': 'uniform', 'algorithm': 'ball_tree', 'p': 1}. Best is trial 4 with value: 0.5571951219512196.\n",
      "[I 2025-03-17 23:29:32,891] Trial 46 finished with value: 0.53 and parameters: {'neighbors': 5, 'weight': 'uniform', 'algorithm': 'kd_tree', 'p': 2}. Best is trial 4 with value: 0.5571951219512196.\n",
      "[I 2025-03-17 23:29:33,150] Trial 47 finished with value: 0.20658536585365855 and parameters: {'neighbors': 3, 'weight': 'uniform', 'algorithm': 'ball_tree', 'p': 1}. Best is trial 4 with value: 0.5571951219512196.\n",
      "[I 2025-03-17 23:29:33,425] Trial 48 finished with value: 0.24134146341463417 and parameters: {'neighbors': 1, 'weight': 'uniform', 'algorithm': 'ball_tree', 'p': 1}. Best is trial 4 with value: 0.5571951219512196.\n",
      "[I 2025-03-17 23:29:33,603] Trial 49 finished with value: 0.4801219512195122 and parameters: {'neighbors': 5, 'weight': 'distance', 'algorithm': 'brute', 'p': 1}. Best is trial 4 with value: 0.5571951219512196.\n"
     ]
    }
   ],
   "source": [
    "study.optimize(objective, n_trials=50)"
   ]
  },
  {
   "cell_type": "code",
   "execution_count": 757,
   "id": "ddcb6140-a437-4320-aed1-e636eceee20f",
   "metadata": {},
   "outputs": [
    {
     "data": {
      "text/plain": [
       "{'neighbors': 2, 'weight': 'distance', 'algorithm': 'brute', 'p': 2}"
      ]
     },
     "execution_count": 757,
     "metadata": {},
     "output_type": "execute_result"
    }
   ],
   "source": [
    "study.best_params"
   ]
  },
  {
   "cell_type": "code",
   "execution_count": 759,
   "id": "28bff2de-6856-41fe-aa75-a1fe9e0e36a1",
   "metadata": {},
   "outputs": [
    {
     "data": {
      "text/plain": [
       "0.5571951219512196"
      ]
     },
     "execution_count": 759,
     "metadata": {},
     "output_type": "execute_result"
    }
   ],
   "source": [
    "study.best_value"
   ]
  },
  {
   "cell_type": "code",
   "execution_count": 722,
   "id": "ba8584f7-ca69-4e03-88af-9b9ce2f3b71e",
   "metadata": {},
   "outputs": [],
   "source": [
    "knn_best = KNeighborsClassifier(n_neighbors=2, weights='uniform', algorithm='brute', p=2)\n",
    "knn_best.fit(x_train, y_train)\n",
    "\n",
    "# Predict on test data\n",
    "y_pred = knn_best.predict(x_test)\n"
   ]
  },
  {
   "cell_type": "code",
   "execution_count": 724,
   "id": "d869608e-a9bd-467a-bb7d-a35a315cff1f",
   "metadata": {},
   "outputs": [
    {
     "name": "stdout",
     "output_type": "stream",
     "text": [
      "              precision    recall  f1-score   support\n",
      "\n",
      "           1       0.00      0.00      0.00         7\n",
      "           2       0.00      0.00      0.00         1\n",
      "           3       0.00      0.00      0.00         2\n",
      "           4       0.14      1.00      0.24         6\n",
      "           5       1.00      0.23      0.37        35\n",
      "\n",
      "    accuracy                           0.27        51\n",
      "   macro avg       0.23      0.25      0.12        51\n",
      "weighted avg       0.70      0.27      0.28        51\n",
      "\n"
     ]
    }
   ],
   "source": [
    "acc = classification_report(y_test, y_pred)\n",
    "print(acc)"
   ]
  },
  {
   "cell_type": "markdown",
   "id": "860851c4-cecf-422f-a34b-364b7518bee5",
   "metadata": {},
   "source": [
    "### Model Evaluation:\n",
    "\n",
    "Comparing predictions with actual ratings to assess performance.\n"
   ]
  },
  {
   "cell_type": "code",
   "execution_count": 829,
   "id": "a8075dee-bdaf-4851-a48f-dd1a33102690",
   "metadata": {},
   "outputs": [],
   "source": [
    "# Predict on new review(s)\n",
    "def predict_rating(new_reviews):\n",
    "    new_reviews = tf.transform(new_reviews)  # Transform new reviews\n",
    "    new_reviews_s = std.transform(new_reviews)  # Scale new data\n",
    "    predictions = knn_best.predict(new_reviews_s)  # Predict ratings\n",
    "    return predictions\n"
   ]
  },
  {
   "cell_type": "code",
   "execution_count": 850,
   "id": "1afc4c35-b267-4990-8c3e-594df522d417",
   "metadata": {},
   "outputs": [
    {
     "name": "stdout",
     "output_type": "stream",
     "text": [
      "[5 4]\n"
     ]
    }
   ],
   "source": [
    "# Demonstration\n",
    "new_reviews = [\"The food was amazing!\", \"Service was Horrible.\"]\n",
    "predicted_ratings = predict_rating(new_reviews)\n",
    "print(predicted_ratings)"
   ]
  },
  {
   "cell_type": "code",
   "execution_count": 823,
   "id": "13391306-ef1a-4c3f-81f1-25e2aa4ab433",
   "metadata": {},
   "outputs": [
    {
     "name": "stdout",
     "output_type": "stream",
     "text": [
      "[4 4]\n"
     ]
    }
   ],
   "source": [
    "# Demonstration\n",
    "new_reviews = [\"The food was worst\", \"Service terrible.\"]\n",
    "predicted_ratings = predict_rating(new_reviews)\n",
    "print(predicted_ratings)"
   ]
  },
  {
   "cell_type": "markdown",
   "id": "297fe739-30e4-4487-bb0a-3bef3b3464cb",
   "metadata": {},
   "source": [
    "## Logistic Regression"
   ]
  },
  {
   "cell_type": "code",
   "execution_count": 827,
   "id": "20f4c24c-fb7a-426d-8ddd-7a416686a9c3",
   "metadata": {},
   "outputs": [],
   "source": [
    " \n",
    "def objective(trial):\n",
    "    combination = trial.suggest_categorical(\"combination\", [\n",
    "        (\"l2\", \"lbfgs\"), (\"l2\", \"liblinear\"), \n",
    "        (\"l1\", \"liblinear\"), (\"elasticnet\", \"saga\")\n",
    "    ])\n",
    "    \n",
    "    C = trial.suggest_categorical(\"C\", [0.001, 0.01, 0.1, 1, 10, 100])\n",
    "    \n",
    "    if combination[0] == \"elasticnet\":\n",
    "        l1_ratio = trial.suggest_categorical(\"l1_ratio\", [0, 0.1, 0.2, 0.3, 0.4, 0.5, 0.6, 0.7, 0.8, 0.9, 1])\n",
    "        model1 = LogisticRegression(\n",
    "            fit_intercept=False, penalty=combination[0], \n",
    "            C=C, solver=combination[1], l1_ratio=l1_ratio\n",
    "        )\n",
    "    else:\n",
    "        model1 = LogisticRegression(\n",
    "            fit_intercept=False, penalty=combination[0], \n",
    "            C=C, solver=combination[1]\n",
    "        )\n",
    "\n",
    "    cv_acc = cross_validate(model, x_train, y_train, cv=5, scoring=\"accuracy\")[\"test_score\"].mean()\n",
    "    \n",
    "    return cv_acc\n"
   ]
  },
  {
   "cell_type": "code",
   "execution_count": 770,
   "id": "32c7363b-9d83-4f24-9fa3-8d7db105694c",
   "metadata": {},
   "outputs": [
    {
     "name": "stderr",
     "output_type": "stream",
     "text": [
      "[I 2025-03-17 23:37:23,529] A new study created in memory with name: no-name-fb47e0f5-6b96-430a-b1f5-5be74ed31d17\n"
     ]
    }
   ],
   "source": [
    "study = optuna.create_study(direction=\"maximize\")"
   ]
  },
  {
   "cell_type": "code",
   "execution_count": 776,
   "id": "febc32c7-fdc9-43d5-ae33-bcbabd3cd039",
   "metadata": {
    "collapsed": true,
    "jupyter": {
     "outputs_hidden": true
    }
   },
   "outputs": [
    {
     "name": "stderr",
     "output_type": "stream",
     "text": [
      "[I 2025-03-17 23:42:26,907] Trial 0 finished with value: 0.675 and parameters: {'combination': ('l2', 'lbfgs'), 'C': 0.001}. Best is trial 0 with value: 0.675.\n",
      "[I 2025-03-17 23:42:27,396] Trial 1 finished with value: 0.675 and parameters: {'combination': ('l1', 'liblinear'), 'C': 100}. Best is trial 0 with value: 0.675.\n",
      "[I 2025-03-17 23:42:27,855] Trial 2 finished with value: 0.675 and parameters: {'combination': ('l2', 'liblinear'), 'C': 100}. Best is trial 0 with value: 0.675.\n",
      "[I 2025-03-17 23:42:28,378] Trial 3 finished with value: 0.675 and parameters: {'combination': ('l1', 'liblinear'), 'C': 0.01}. Best is trial 0 with value: 0.675.\n",
      "[I 2025-03-17 23:42:28,934] Trial 4 finished with value: 0.675 and parameters: {'combination': ('l2', 'lbfgs'), 'C': 0.01}. Best is trial 0 with value: 0.675.\n",
      "[I 2025-03-17 23:42:29,565] Trial 5 finished with value: 0.675 and parameters: {'combination': ('l2', 'liblinear'), 'C': 0.01}. Best is trial 0 with value: 0.675.\n",
      "[I 2025-03-17 23:42:30,096] Trial 6 finished with value: 0.675 and parameters: {'combination': ('l1', 'liblinear'), 'C': 0.1}. Best is trial 0 with value: 0.675.\n",
      "[I 2025-03-17 23:42:30,667] Trial 7 finished with value: 0.675 and parameters: {'combination': ('elasticnet', 'saga'), 'C': 100, 'l1_ratio': 0.4}. Best is trial 0 with value: 0.675.\n",
      "[I 2025-03-17 23:42:31,218] Trial 8 finished with value: 0.675 and parameters: {'combination': ('l2', 'lbfgs'), 'C': 0.001}. Best is trial 0 with value: 0.675.\n",
      "[I 2025-03-17 23:42:31,928] Trial 9 finished with value: 0.675 and parameters: {'combination': ('elasticnet', 'saga'), 'C': 0.1, 'l1_ratio': 0.5}. Best is trial 0 with value: 0.675.\n",
      "[I 2025-03-17 23:42:32,635] Trial 10 finished with value: 0.675 and parameters: {'combination': ('l2', 'lbfgs'), 'C': 0.001}. Best is trial 0 with value: 0.675.\n",
      "[I 2025-03-17 23:42:33,146] Trial 11 finished with value: 0.675 and parameters: {'combination': ('l1', 'liblinear'), 'C': 10}. Best is trial 0 with value: 0.675.\n",
      "[I 2025-03-17 23:42:33,688] Trial 12 finished with value: 0.675 and parameters: {'combination': ('l2', 'lbfgs'), 'C': 1}. Best is trial 0 with value: 0.675.\n",
      "[I 2025-03-17 23:42:34,204] Trial 13 finished with value: 0.675 and parameters: {'combination': ('l1', 'liblinear'), 'C': 0.001}. Best is trial 0 with value: 0.675.\n",
      "[I 2025-03-17 23:42:34,742] Trial 14 finished with value: 0.675 and parameters: {'combination': ('l2', 'lbfgs'), 'C': 100}. Best is trial 0 with value: 0.675.\n",
      "[I 2025-03-17 23:42:35,214] Trial 15 finished with value: 0.675 and parameters: {'combination': ('l1', 'liblinear'), 'C': 10}. Best is trial 0 with value: 0.675.\n",
      "[I 2025-03-17 23:42:35,711] Trial 16 finished with value: 0.675 and parameters: {'combination': ('l2', 'liblinear'), 'C': 1}. Best is trial 0 with value: 0.675.\n",
      "[I 2025-03-17 23:42:36,179] Trial 17 finished with value: 0.675 and parameters: {'combination': ('elasticnet', 'saga'), 'C': 100, 'l1_ratio': 0.2}. Best is trial 0 with value: 0.675.\n",
      "[I 2025-03-17 23:42:36,670] Trial 18 finished with value: 0.675 and parameters: {'combination': ('l1', 'liblinear'), 'C': 0.001}. Best is trial 0 with value: 0.675.\n",
      "[I 2025-03-17 23:42:37,273] Trial 19 finished with value: 0.675 and parameters: {'combination': ('l2', 'lbfgs'), 'C': 100}. Best is trial 0 with value: 0.675.\n",
      "[I 2025-03-17 23:42:37,885] Trial 20 finished with value: 0.675 and parameters: {'combination': ('l2', 'lbfgs'), 'C': 0.001}. Best is trial 0 with value: 0.675.\n",
      "[I 2025-03-17 23:42:38,350] Trial 21 finished with value: 0.675 and parameters: {'combination': ('l2', 'liblinear'), 'C': 100}. Best is trial 0 with value: 0.675.\n",
      "[I 2025-03-17 23:42:38,809] Trial 22 finished with value: 0.675 and parameters: {'combination': ('l2', 'liblinear'), 'C': 100}. Best is trial 0 with value: 0.675.\n",
      "[I 2025-03-17 23:42:39,268] Trial 23 finished with value: 0.675 and parameters: {'combination': ('l2', 'liblinear'), 'C': 100}. Best is trial 0 with value: 0.675.\n",
      "[I 2025-03-17 23:42:39,724] Trial 24 finished with value: 0.675 and parameters: {'combination': ('l2', 'liblinear'), 'C': 100}. Best is trial 0 with value: 0.675.\n",
      "[I 2025-03-17 23:42:40,216] Trial 25 finished with value: 0.675 and parameters: {'combination': ('l2', 'liblinear'), 'C': 10}. Best is trial 0 with value: 0.675.\n",
      "[I 2025-03-17 23:42:40,729] Trial 26 finished with value: 0.675 and parameters: {'combination': ('l1', 'liblinear'), 'C': 1}. Best is trial 0 with value: 0.675.\n",
      "[I 2025-03-17 23:42:41,287] Trial 27 finished with value: 0.675 and parameters: {'combination': ('elasticnet', 'saga'), 'C': 0.1, 'l1_ratio': 0.8}. Best is trial 0 with value: 0.675.\n",
      "[I 2025-03-17 23:42:41,780] Trial 28 finished with value: 0.675 and parameters: {'combination': ('l2', 'lbfgs'), 'C': 0.001}. Best is trial 0 with value: 0.675.\n",
      "[I 2025-03-17 23:42:42,250] Trial 29 finished with value: 0.675 and parameters: {'combination': ('l1', 'liblinear'), 'C': 0.01}. Best is trial 0 with value: 0.675.\n",
      "[I 2025-03-17 23:42:42,819] Trial 30 finished with value: 0.675 and parameters: {'combination': ('l2', 'liblinear'), 'C': 100}. Best is trial 0 with value: 0.675.\n",
      "[I 2025-03-17 23:42:43,278] Trial 31 finished with value: 0.675 and parameters: {'combination': ('l1', 'liblinear'), 'C': 0.01}. Best is trial 0 with value: 0.675.\n",
      "[I 2025-03-17 23:42:43,760] Trial 32 finished with value: 0.675 and parameters: {'combination': ('l1', 'liblinear'), 'C': 0.01}. Best is trial 0 with value: 0.675.\n",
      "[I 2025-03-17 23:42:44,226] Trial 33 finished with value: 0.675 and parameters: {'combination': ('l1', 'liblinear'), 'C': 0.01}. Best is trial 0 with value: 0.675.\n",
      "[I 2025-03-17 23:42:44,687] Trial 34 finished with value: 0.675 and parameters: {'combination': ('l1', 'liblinear'), 'C': 0.01}. Best is trial 0 with value: 0.675.\n",
      "[I 2025-03-17 23:42:45,139] Trial 35 finished with value: 0.675 and parameters: {'combination': ('l2', 'lbfgs'), 'C': 0.01}. Best is trial 0 with value: 0.675.\n",
      "[I 2025-03-17 23:42:45,648] Trial 36 finished with value: 0.675 and parameters: {'combination': ('l1', 'liblinear'), 'C': 0.1}. Best is trial 0 with value: 0.675.\n",
      "[I 2025-03-17 23:42:46,108] Trial 37 finished with value: 0.675 and parameters: {'combination': ('l2', 'liblinear'), 'C': 0.001}. Best is trial 0 with value: 0.675.\n",
      "[I 2025-03-17 23:42:46,579] Trial 38 finished with value: 0.675 and parameters: {'combination': ('elasticnet', 'saga'), 'C': 100, 'l1_ratio': 0}. Best is trial 0 with value: 0.675.\n",
      "[I 2025-03-17 23:42:47,013] Trial 39 finished with value: 0.675 and parameters: {'combination': ('l2', 'lbfgs'), 'C': 10}. Best is trial 0 with value: 0.675.\n",
      "[I 2025-03-17 23:42:47,477] Trial 40 finished with value: 0.675 and parameters: {'combination': ('l1', 'liblinear'), 'C': 0.001}. Best is trial 0 with value: 0.675.\n",
      "[I 2025-03-17 23:42:47,923] Trial 41 finished with value: 0.675 and parameters: {'combination': ('l2', 'lbfgs'), 'C': 0.01}. Best is trial 0 with value: 0.675.\n",
      "[I 2025-03-17 23:42:48,389] Trial 42 finished with value: 0.675 and parameters: {'combination': ('l2', 'lbfgs'), 'C': 0.01}. Best is trial 0 with value: 0.675.\n",
      "[I 2025-03-17 23:42:48,844] Trial 43 finished with value: 0.675 and parameters: {'combination': ('l2', 'lbfgs'), 'C': 0.01}. Best is trial 0 with value: 0.675.\n",
      "[I 2025-03-17 23:42:49,311] Trial 44 finished with value: 0.675 and parameters: {'combination': ('l2', 'lbfgs'), 'C': 1}. Best is trial 0 with value: 0.675.\n",
      "[I 2025-03-17 23:42:49,783] Trial 45 finished with value: 0.675 and parameters: {'combination': ('elasticnet', 'saga'), 'C': 0.1, 'l1_ratio': 0.7}. Best is trial 0 with value: 0.675.\n",
      "[I 2025-03-17 23:42:50,252] Trial 46 finished with value: 0.675 and parameters: {'combination': ('l1', 'liblinear'), 'C': 100}. Best is trial 0 with value: 0.675.\n",
      "[I 2025-03-17 23:42:50,712] Trial 47 finished with value: 0.675 and parameters: {'combination': ('l2', 'lbfgs'), 'C': 0.001}. Best is trial 0 with value: 0.675.\n",
      "[I 2025-03-17 23:42:51,231] Trial 48 finished with value: 0.675 and parameters: {'combination': ('l2', 'lbfgs'), 'C': 0.01}. Best is trial 0 with value: 0.675.\n",
      "[I 2025-03-17 23:42:51,713] Trial 49 finished with value: 0.675 and parameters: {'combination': ('l1', 'liblinear'), 'C': 100}. Best is trial 0 with value: 0.675.\n"
     ]
    }
   ],
   "source": [
    "study.optimize(objective, n_trials=50)"
   ]
  },
  {
   "cell_type": "code",
   "execution_count": 784,
   "id": "39fdfc79-520d-4776-8973-28f8adbc9403",
   "metadata": {},
   "outputs": [],
   "source": [
    " best_params= study.best_params"
   ]
  },
  {
   "cell_type": "code",
   "execution_count": 786,
   "id": "24bf342c-d6bd-41d9-822f-fcdf533923f2",
   "metadata": {},
   "outputs": [
    {
     "data": {
      "text/plain": [
       "0.675"
      ]
     },
     "execution_count": 786,
     "metadata": {},
     "output_type": "execute_result"
    }
   ],
   "source": [
    " study.best_value"
   ]
  },
  {
   "cell_type": "code",
   "execution_count": 788,
   "id": "c7958023-20ce-463b-a7ba-6e5dd51b021f",
   "metadata": {},
   "outputs": [],
   "source": [
    "model1= LogisticRegression(penalty=best_params['combination'][0], solver=best_params['combination'][1],C=best_params['C'],fit_intercept=False)\n"
   ]
  },
  {
   "cell_type": "markdown",
   "id": "bed064e7-a4a9-4ca6-8f9d-4797fd6991e2",
   "metadata": {},
   "source": [
    "### Model Evaluation:\n",
    "\n",
    "Comparing predictions with actual ratings to assess performance.\n"
   ]
  },
  {
   "cell_type": "code",
   "execution_count": 790,
   "id": "d71123e9-5f4b-436b-b401-9d222e5d85bc",
   "metadata": {},
   "outputs": [
    {
     "name": "stdout",
     "output_type": "stream",
     "text": [
      "Accuracy: 0.67\n"
     ]
    }
   ],
   "source": [
    "# Train the model\n",
    "model1.fit(x_train, y_train)\n",
    "\n",
    "# Predict on test data\n",
    "y_pred = model1.predict(x_test)\n",
    "\n",
    "# Evaluate accuracy\n",
    "accuracy = accuracy_score(y_test, y_pred)\n",
    "\n",
    "print(f\"Accuracy: {accuracy:.2f}\")"
   ]
  },
  {
   "cell_type": "code",
   "execution_count": 796,
   "id": "831e2b08-676a-40ff-9627-e97a357920f0",
   "metadata": {},
   "outputs": [],
   "source": [
    "# Predict on new review(s)\n",
    "def predict_ratings(new_reviews):\n",
    "    new_reviews = tf.transform(new_reviews)  # Transform new reviews\n",
    "    new_reviews_s = std.transform(new_reviews)  # Scale new data\n",
    "    predictions = model1.predict(new_reviews_s)  # Predict ratings\n",
    "    return predictions"
   ]
  },
  {
   "cell_type": "code",
   "execution_count": 809,
   "id": "a6384b80-4181-4123-abff-ea932131b3b3",
   "metadata": {},
   "outputs": [
    {
     "name": "stdout",
     "output_type": "stream",
     "text": [
      "[1 1]\n"
     ]
    }
   ],
   "source": [
    "# Demonstration\n",
    "new_reviews = [\"The food was worst\", \"Service terrible.\"]\n",
    "predicted_ratings = predict_ratings(new_reviews)\n",
    "print(predicted_ratings)"
   ]
  },
  {
   "cell_type": "code",
   "execution_count": 846,
   "id": "0e3863f9-41c0-45b1-831c-d622d883dbaa",
   "metadata": {},
   "outputs": [
    {
     "name": "stdout",
     "output_type": "stream",
     "text": [
      "[5 2]\n"
     ]
    }
   ],
   "source": [
    "# Demonstration\n",
    "new_reviews = [\"The food was amazing!\", \"Service was Horrible \"]\n",
    "predicted_ratings = predict_ratings(new_reviews)\n",
    "print(predicted_ratings)"
   ]
  },
  {
   "cell_type": "markdown",
   "id": "6e3d63e1-4cc3-4605-97b4-e221561d039d",
   "metadata": {},
   "source": [
    "## Decision Tree"
   ]
  },
  {
   "cell_type": "code",
   "execution_count": 860,
   "id": "cd08926c-6045-459c-8c03-8579e160f5fd",
   "metadata": {},
   "outputs": [],
   "source": [
    "# Train Decision Tree Classifier\n",
    "dt_model = DecisionTreeClassifier(criterion=\"entropy\", max_depth=5, random_state=42)\n",
    "dt_model.fit(x_train, y_train)\n",
    "\n",
    "# Predict on test data\n",
    "y_pred = dt_model.predict(x_test)\n",
    "\n"
   ]
  },
  {
   "cell_type": "code",
   "execution_count": 862,
   "id": "75bdbd34-dbe3-46d0-848b-ac23fceb406d",
   "metadata": {},
   "outputs": [
    {
     "name": "stdout",
     "output_type": "stream",
     "text": [
      "Accuracy: 0.71\n",
      "              precision    recall  f1-score   support\n",
      "\n",
      "           1       0.50      0.14      0.22         7\n",
      "           2       0.00      0.00      0.00         1\n",
      "           3       0.00      0.00      0.00         2\n",
      "           4       0.40      0.33      0.36         6\n",
      "           5       0.77      0.94      0.85        35\n",
      "\n",
      "    accuracy                           0.71        51\n",
      "   macro avg       0.33      0.28      0.29        51\n",
      "weighted avg       0.64      0.71      0.65        51\n",
      "\n"
     ]
    }
   ],
   "source": [
    "# Evaluate the model\n",
    "accuracy = accuracy_score(y_test, y_pred)\n",
    "print(f\"Accuracy: {accuracy:.2f}\")\n",
    "print(classification_report(y_test, y_pred))\n"
   ]
  },
  {
   "cell_type": "code",
   "execution_count": 864,
   "id": "2a162361-df68-4f4d-98b2-26f3b5e1f2aa",
   "metadata": {},
   "outputs": [],
   "source": [
    "# Predict on new review(s)\n",
    "def predict_rat(new_reviews):\n",
    "    new_reviews = tf.transform(new_reviews)  # Transform new reviews\n",
    "    new_reviews_s = std.transform(new_reviews)  # Scale new data\n",
    "    predictions = dt_model.predict(new_reviews_s)  # Predict ratings\n",
    "    return predictions"
   ]
  },
  {
   "cell_type": "code",
   "execution_count": 858,
   "id": "01427930-6a3c-4d1c-b153-6d2ebce5248b",
   "metadata": {},
   "outputs": [
    {
     "name": "stdout",
     "output_type": "stream",
     "text": [
      "[5 5]\n"
     ]
    }
   ],
   "source": [
    "# Demonstration\n",
    "new_reviews = [\"The food was worst\", \"Service terrible.\"]\n",
    "predicted_ratings = predict_rat(new_reviews)\n",
    "print(predicted_ratings)"
   ]
  },
  {
   "cell_type": "code",
   "execution_count": null,
   "id": "46946e79-dfab-4b48-b817-062dceb2823b",
   "metadata": {},
   "outputs": [],
   "source": []
  }
 ],
 "metadata": {
  "kernelspec": {
   "display_name": "Python [conda env:base] *",
   "language": "python",
   "name": "conda-base-py"
  },
  "language_info": {
   "codemirror_mode": {
    "name": "ipython",
    "version": 3
   },
   "file_extension": ".py",
   "mimetype": "text/x-python",
   "name": "python",
   "nbconvert_exporter": "python",
   "pygments_lexer": "ipython3",
   "version": "3.12.7"
  }
 },
 "nbformat": 4,
 "nbformat_minor": 5
}
